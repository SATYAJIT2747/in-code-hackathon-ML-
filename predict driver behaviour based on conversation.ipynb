{
 "cells": [
  {
   "cell_type": "code",
   "execution_count": 3,
   "id": "bc42f097",
   "metadata": {},
   "outputs": [
    {
     "name": "stdout",
     "output_type": "stream",
     "text": [
      "Enter a conversation between the customer and driver: Customer: Why are you driving so aggressively? Driver: I'm sorry, I'll calm down.\n",
      "Predicted Driver Behavior Category: Aggressive\n"
     ]
    }
   ],
   "source": [
    "import pandas as pd\n",
    "from sklearn.feature_extraction.text import CountVectorizer\n",
    "from sklearn.ensemble import RandomForestClassifier\n",
    "\n",
    "\n",
    "data = pd.DataFrame({\n",
    "    'Conversation': [\n",
    "        \"Customer: How's your day going? Driver: It's been great so far. How about yours?\",\n",
    "        \"Customer: Can you please drive a bit more carefully? Driver: Sure, I'll be more cautious.\",\n",
    "        \"Customer: Thank you for the ride. Driver: You're welcome! Have a nice day!\",\n",
    "        \"Customer: Do you always drive at this speed? Driver: I apologize. I'll slow down.\",\n",
    "        \"Customer: How long have you been driving? Driver: I've been driving for 5 years now.\",\n",
    "        \"Customer: That was a reckless maneuver! Driver: I'm sorry, it won't happen again.\",\n",
    "        \"Customer: Please stop talking on the phone while driving. Driver: My apologies, I'll hang up.\",\n",
    "        \"Customer: You're driving too fast! Driver: I'll try to maintain a safer speed.\",\n",
    "        \"Customer: I appreciate your safe and calm driving. Driver: Thank you, I prioritize safety.\",\n",
    "        \"Customer: Watch out! You almost hit that car. Driver: I apologize, I didn't see it.\"\n",
    "    ],\n",
    "    'Label': ['Normal', 'Risky', 'Normal', 'Aggressive', 'Normal', 'Aggressive', 'Risky', 'Aggressive', 'Normal', 'Risky']\n",
    "})\n",
    "\n",
    "\n",
    "vectorizer = CountVectorizer(stop_words='english')\n",
    "\n",
    "\n",
    "X_vectorized = vectorizer.fit_transform(data['Conversation'])\n",
    "\n",
    "\n",
    "rf_classifier = RandomForestClassifier()\n",
    "\n",
    "# Train \n",
    "rf_classifier.fit(X_vectorized, data['Label'])\n",
    "\n",
    "# Enter a new conversation \n",
    "new_conversation = input(\"Enter a conversation between the customer and driver: \")\n",
    "\n",
    "# Transform the new conversation\n",
    "new_conversation_vectorized = vectorizer.transform([new_conversation])\n",
    "\n",
    "# Predict the behavior the new conversation\n",
    "predicted_category = rf_classifier.predict(new_conversation_vectorized)[0]\n",
    "\n",
    "# Print the category\n",
    "print(\"Predicted Driver Behavior Category:\", predicted_category)\n"
   ]
  },
  {
   "cell_type": "code",
   "execution_count": 4,
   "id": "0a733424",
   "metadata": {},
   "outputs": [],
   "source": [
    "import speech_recognition as sr"
   ]
  },
  {
   "cell_type": "code",
   "execution_count": 7,
   "id": "f234e66f",
   "metadata": {},
   "outputs": [
    {
     "name": "stdout",
     "output_type": "stream",
     "text": [
      "Speak now...\n",
      "result2:\n",
      "{   'alternative': [   {   'confidence': 0.88687521,\n",
      "                           'transcript': 'you almost eat the car drive '\n",
      "                                         'carefully please why are you talking '\n",
      "                                         'on'},\n",
      "                       {   'transcript': 'you almost IIT the car drive '\n",
      "                                         'carefully please why are you talking '\n",
      "                                         'on'},\n",
      "                       {   'transcript': 'you almost eat the car drive '\n",
      "                                         'carefully please why are you talking '\n",
      "                                         'own'},\n",
      "                       {   'transcript': 'you almost eat the car drive '\n",
      "                                         'carefully plays why are you talking '\n",
      "                                         'on'},\n",
      "                       {   'transcript': 'you almost eat the car drive '\n",
      "                                         'carefully pleas why are you talking '\n",
      "                                         'on'}],\n",
      "    'final': True}\n",
      "You said: you almost eat the car drive carefully please why are you talking on\n",
      "Predicted Driver Behavior Category: Risky\n"
     ]
    }
   ],
   "source": [
    "import pandas as pd\n",
    "from sklearn.feature_extraction.text import CountVectorizer\n",
    "from sklearn.ensemble import RandomForestClassifier\n",
    "import speech_recognition as sr\n",
    "\n",
    "\n",
    "data = pd.DataFrame({\n",
    "    'Conversation': [\n",
    "        \"Customer: How's your day going? Driver: It's been great so far. How about yours?\",\n",
    "        \"Customer: Can you please drive a bit more carefully? Driver: Sure, I'll be more cautious.\",\n",
    "        \"Customer: Thank you for the ride. Driver: You're welcome! Have a nice day!\",\n",
    "        \"Customer: Do you always drive at this speed? Driver: I apologize. I'll slow down.\",\n",
    "        \"Customer: How long have you been driving? Driver: I've been driving for 5 years now.\",\n",
    "        \"Customer: That was a reckless maneuver! Driver: I'm sorry, it won't happen again.\",\n",
    "        \"Customer: Please stop talking on the phone while driving. Driver: My apologies, I'll hang up.\",\n",
    "        \"Customer: You're driving too fast! Driver: I'll try to maintain a safer speed.\",\n",
    "        \"Customer: I appreciate your safe and calm driving. Driver: Thank you, I prioritize safety.\",\n",
    "        \"Customer: Watch out! You almost hit that car. Driver: I apologize, I didn't see it.\"\n",
    "    ],\n",
    "    'Label': ['Normal', 'Risky', 'Normal', 'Aggressive', 'Normal', 'Aggressive', 'Risky', 'Aggressive', 'Normal', 'Risky']\n",
    "})\n",
    "\n",
    "vectorizer = CountVectorizer(stop_words='english')\n",
    "X_vectorized = vectorizer.fit_transform(data['Conversation'])\n",
    "rf_classifier = RandomForestClassifier()\n",
    "# Training\n",
    "rf_classifier.fit(X_vectorized, data['Label'])\n",
    "\n",
    "# speech recognition\n",
    "recognizer = sr.Recognizer()\n",
    "\n",
    "# Record audio from the microphone\n",
    "with sr.Microphone() as source:\n",
    "    print(\"Speak now...\")\n",
    "    audio = recognizer.listen(source)\n",
    "\n",
    "try:\n",
    "    # Convert speech to text\n",
    "    new_conversation = recognizer.recognize_google(audio)\n",
    "    print(\"You said:\", new_conversation)\n",
    "    new_conversation_vectorized = vectorizer.transform([new_conversation])\n",
    "\n",
    "    # Predict category for the new conversation\n",
    "    predicted_category = rf_classifier.predict(new_conversation_vectorized)[0]\n",
    "\n",
    "    # Print the predicted category\n",
    "    print(\"Predicted Driver Behavior Category:\", predicted_category)\n",
    "\n",
    "except sr.UnknownValueError:\n",
    "    print(\"Unable to recognize speech\")\n",
    "except sr.RequestError:\n",
    "    print(\"Speech recognition request error\")\n"
   ]
  },
  {
   "cell_type": "code",
   "execution_count": null,
   "id": "c9cf7e6d",
   "metadata": {},
   "outputs": [],
   "source": []
  }
 ],
 "metadata": {
  "kernelspec": {
   "display_name": "Python 3 (ipykernel)",
   "language": "python",
   "name": "python3"
  },
  "language_info": {
   "codemirror_mode": {
    "name": "ipython",
    "version": 3
   },
   "file_extension": ".py",
   "mimetype": "text/x-python",
   "name": "python",
   "nbconvert_exporter": "python",
   "pygments_lexer": "ipython3",
   "version": "3.9.13"
  }
 },
 "nbformat": 4,
 "nbformat_minor": 5
}
