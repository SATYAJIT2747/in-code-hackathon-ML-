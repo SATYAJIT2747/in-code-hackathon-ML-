{
 "cells": [
  {
   "cell_type": "code",
   "execution_count": 1,
   "id": "b7365dbf",
   "metadata": {},
   "outputs": [],
   "source": [
    "import pandas as pd\n",
    "from sklearn.model_selection import train_test_split\n",
    "from sklearn.ensemble import RandomForestClassifier\n",
    "from sklearn.metrics import classification_report\n",
    "\n"
   ]
  },
  {
   "cell_type": "code",
   "execution_count": 4,
   "id": "1d02c148",
   "metadata": {},
   "outputs": [
    {
     "name": "stdout",
     "output_type": "stream",
     "text": [
      "              precision    recall  f1-score   support\n",
      "\n",
      "  Aggressive       0.98      0.76      0.85        62\n",
      "      Normal       1.00      1.00      1.00   1926611\n",
      "\n",
      "    accuracy                           1.00   1926673\n",
      "   macro avg       0.99      0.88      0.93   1926673\n",
      "weighted avg       1.00      1.00      1.00   1926673\n",
      "\n"
     ]
    }
   ],
   "source": [
    "\n",
    "\n",
    "# accelerometer and gyroscope data \n",
    "accelerometer_data = pd.read_csv('Accelerometer.csv', delimiter=',')\n",
    "gyroscope_data = pd.read_csv('Gyroscope.csv', delimiter=',')\n",
    "\n",
    "# Merge based on timestamp and milliseconds\n",
    "merged_data = pd.merge(accelerometer_data, gyroscope_data, on=['Timestamp', 'Milliseconds'])\n",
    "\n",
    "# magnitude of acceleration vector\n",
    "merged_data['accel_magnitude'] = (merged_data['X_accel']**2 + merged_data['Y_accel']**2 + merged_data['Z_accel']**2)**0.5\n",
    "\n",
    "# threshold values for each behavior (u take on ur own acoording to u)\n",
    "aggressive_threshold = 10.0\n",
    "risky_threshold = 15.0\n",
    "\n",
    "# labels based on the magnitude \n",
    "merged_data.loc[merged_data['accel_magnitude'] < aggressive_threshold, 'label'] = 'Normal'\n",
    "merged_data.loc[(merged_data['accel_magnitude'] >= aggressive_threshold) & (merged_data['accel_magnitude'] < risky_threshold), 'label'] = 'Aggressive'\n",
    "merged_data.loc[merged_data['accel_magnitude'] >= risky_threshold, 'label'] = 'Risky'\n",
    "\n",
    "# Split  into training and testing \n",
    "X = merged_data[['X_accel', 'Y_accel', 'Z_accel', 'X_gyro', 'Y_gyro', 'Z_gyro']]\n",
    "y = merged_data['label']\n",
    "X_train, X_test, y_train, y_test = train_test_split(X, y, test_size=0.2, random_state=42)\n",
    "\n",
    "# Random Forest Classifier\n",
    "rf_classifier = RandomForestClassifier()\n",
    "\n",
    "# Train \n",
    "rf_classifier.fit(X_train, y_train)\n",
    "\n",
    "# Predict \n",
    "y_pred = rf_classifier.predict(X_test)\n",
    "\n",
    "#  performance\n",
    "print(classification_report(y_test, y_pred))\n"
   ]
  },
  {
   "cell_type": "code",
   "execution_count": 5,
   "id": "ad7f03dd",
   "metadata": {},
   "outputs": [
    {
     "name": "stdout",
     "output_type": "stream",
     "text": [
      "['Normal']\n"
     ]
    }
   ],
   "source": [
    "import pandas as pd\n",
    "\n",
    "# ur new  data point\n",
    "new_data = pd.DataFrame({'X_accel': [0.5], 'Y_accel': [-0.3], 'Z_accel': [0.2], 'X_gyro': [0.1], 'Y_gyro': [-0.1], 'Z_gyro': [0.3]})\n",
    "\n",
    "#the trained model now  predict the category\n",
    "predicted_category = rf_classifier.predict(new_data)\n",
    "\n",
    "print(predicted_category)\n"
   ]
  },
  {
   "cell_type": "code",
   "execution_count": null,
   "id": "ac25d731",
   "metadata": {},
   "outputs": [],
   "source": []
  }
 ],
 "metadata": {
  "kernelspec": {
   "display_name": "Python 3 (ipykernel)",
   "language": "python",
   "name": "python3"
  },
  "language_info": {
   "codemirror_mode": {
    "name": "ipython",
    "version": 3
   },
   "file_extension": ".py",
   "mimetype": "text/x-python",
   "name": "python",
   "nbconvert_exporter": "python",
   "pygments_lexer": "ipython3",
   "version": "3.9.13"
  }
 },
 "nbformat": 4,
 "nbformat_minor": 5
}
